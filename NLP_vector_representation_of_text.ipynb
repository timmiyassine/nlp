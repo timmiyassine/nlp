{
  "nbformat": 4,
  "nbformat_minor": 5,
  "metadata": {
    "kernelspec": {
      "display_name": "Python 3 (ipykernel)",
      "language": "python",
      "name": "python3"
    },
    "language_info": {
      "codemirror_mode": {
        "name": "ipython",
        "version": 3
      },
      "file_extension": ".py",
      "mimetype": "text/x-python",
      "name": "python",
      "nbconvert_exporter": "python",
      "pygments_lexer": "ipython3",
      "version": "3.9.0"
    },
    "colab": {
      "name": "NLP_vector_representation_of_text.ipynb",
      "provenance": [],
      "include_colab_link": true
    }
  },
  "cells": [
    {
      "cell_type": "markdown",
      "metadata": {
        "id": "view-in-github",
        "colab_type": "text"
      },
      "source": [
        "<a href=\"https://colab.research.google.com/github/timmiyassine/nlp-tps/blob/main/NLP_vector_representation_of_text.ipynb\" target=\"_parent\"><img src=\"https://colab.research.google.com/assets/colab-badge.svg\" alt=\"Open In Colab\"/></a>"
      ]
    },
    {
      "cell_type": "code",
      "metadata": {
        "colab": {
          "base_uri": "https://localhost:8080/"
        },
        "id": "8ea736c2",
        "outputId": "cb130f2a-ac53-48d9-c955-22e6a54baded"
      },
      "source": [
        "import nltk\n",
        "\n",
        "documentA = 'Apple Inc. is an American multinational technology company that specializes in consumer electronics, computer software, and online services. Apple is the world\\'s largest technology company by revenue and, since January 2021, the world\\'s most valuable company'\n",
        "documentB = 'Google LLC is an American multinational technology company that specializes in Internet-related services and products, which include online advertising technologies, a search engine, cloud computing, software, and hardware'\n",
        "\n",
        "nltk.download('punkt')\n",
        "tokenize_A = nltk.word_tokenize(documentA)\n",
        "tokenize_B = nltk.word_tokenize(documentB)\n",
        "uniqueWords = set(tokenize_A).union(set(tokenize_B))"
      ],
      "id": "8ea736c2",
      "execution_count": 1,
      "outputs": [
        {
          "output_type": "stream",
          "name": "stdout",
          "text": [
            "[nltk_data] Downloading package punkt to /root/nltk_data...\n",
            "[nltk_data]   Unzipping tokenizers/punkt.zip.\n"
          ]
        }
      ]
    },
    {
      "cell_type": "code",
      "metadata": {
        "colab": {
          "base_uri": "https://localhost:8080/"
        },
        "id": "30503e84",
        "outputId": "05243562-b06c-44e0-fe8b-0ce48ec583bb"
      },
      "source": [
        "print(type(uniqueWords))\n",
        "dict.fromkeys(uniqueWords, 0)"
      ],
      "id": "30503e84",
      "execution_count": 2,
      "outputs": [
        {
          "output_type": "stream",
          "name": "stdout",
          "text": [
            "<class 'set'>\n"
          ]
        },
        {
          "output_type": "execute_result",
          "data": {
            "text/plain": [
              "{\"'s\": 0,\n",
              " ',': 0,\n",
              " '.': 0,\n",
              " '2021': 0,\n",
              " 'American': 0,\n",
              " 'Apple': 0,\n",
              " 'Google': 0,\n",
              " 'Inc.': 0,\n",
              " 'Internet-related': 0,\n",
              " 'January': 0,\n",
              " 'LLC': 0,\n",
              " 'a': 0,\n",
              " 'advertising': 0,\n",
              " 'an': 0,\n",
              " 'and': 0,\n",
              " 'by': 0,\n",
              " 'cloud': 0,\n",
              " 'company': 0,\n",
              " 'computer': 0,\n",
              " 'computing': 0,\n",
              " 'consumer': 0,\n",
              " 'electronics': 0,\n",
              " 'engine': 0,\n",
              " 'hardware': 0,\n",
              " 'in': 0,\n",
              " 'include': 0,\n",
              " 'is': 0,\n",
              " 'largest': 0,\n",
              " 'most': 0,\n",
              " 'multinational': 0,\n",
              " 'online': 0,\n",
              " 'products': 0,\n",
              " 'revenue': 0,\n",
              " 'search': 0,\n",
              " 'services': 0,\n",
              " 'since': 0,\n",
              " 'software': 0,\n",
              " 'specializes': 0,\n",
              " 'technologies': 0,\n",
              " 'technology': 0,\n",
              " 'that': 0,\n",
              " 'the': 0,\n",
              " 'valuable': 0,\n",
              " 'which': 0,\n",
              " 'world': 0}"
            ]
          },
          "metadata": {},
          "execution_count": 2
        }
      ]
    },
    {
      "cell_type": "code",
      "metadata": {
        "id": "78bcff49"
      },
      "source": [
        "#Count the number of occurrences of all uniqueWords in each file"
      ],
      "id": "78bcff49",
      "execution_count": null,
      "outputs": []
    },
    {
      "cell_type": "code",
      "metadata": {
        "id": "10f8f626"
      },
      "source": [
        "numOfWordsA = dict.fromkeys(uniqueWords, 0)\n",
        "for word in tokenize_A:\n",
        "    numOfWordsA[word] += 1\n",
        "numOfWordsB = dict.fromkeys(uniqueWords, 0)\n",
        "for word in tokenize_B:\n",
        "    numOfWordsB[word] += 1"
      ],
      "id": "10f8f626",
      "execution_count": 3,
      "outputs": []
    },
    {
      "cell_type": "code",
      "metadata": {
        "colab": {
          "base_uri": "https://localhost:8080/"
        },
        "id": "f1ce8429",
        "outputId": "d9e52ea2-c9d9-479d-c008-8d2643675bb9"
      },
      "source": [
        "print(numOfWordsA)"
      ],
      "id": "f1ce8429",
      "execution_count": 4,
      "outputs": [
        {
          "output_type": "stream",
          "name": "stdout",
          "text": [
            "{'by': 1, 'software': 1, 'that': 1, 'LLC': 0, 'in': 1, 'services': 1, 'technology': 2, 'valuable': 1, 'American': 1, 'is': 2, 'revenue': 1, 'which': 0, '.': 1, 'cloud': 0, 'technologies': 0, 'and': 2, 'computing': 0, 'largest': 1, 'electronics': 1, 'computer': 1, 'a': 0, 'search': 0, 'most': 1, \"'s\": 2, 'consumer': 1, 'products': 0, 'the': 2, 'include': 0, 'Internet-related': 0, 'an': 1, 'specializes': 1, 'Inc.': 1, 'online': 1, 'January': 1, 'hardware': 0, 'multinational': 1, 'advertising': 0, 'engine': 0, 'company': 3, 'Google': 0, 'world': 2, 'Apple': 2, ',': 4, '2021': 1, 'since': 1}\n"
          ]
        }
      ]
    },
    {
      "cell_type": "code",
      "metadata": {
        "colab": {
          "base_uri": "https://localhost:8080/"
        },
        "id": "646fc5a7",
        "outputId": "76ac0db1-5efb-4fae-d0fa-ce4fa6a5e994"
      },
      "source": [
        "print(numOfWordsB)"
      ],
      "id": "646fc5a7",
      "execution_count": 5,
      "outputs": [
        {
          "output_type": "stream",
          "name": "stdout",
          "text": [
            "{'by': 0, 'software': 1, 'that': 1, 'LLC': 1, 'in': 1, 'services': 1, 'technology': 1, 'valuable': 0, 'American': 1, 'is': 1, 'revenue': 0, 'which': 1, '.': 0, 'cloud': 1, 'technologies': 1, 'and': 2, 'computing': 1, 'largest': 0, 'electronics': 0, 'computer': 0, 'a': 1, 'search': 1, 'most': 0, \"'s\": 0, 'consumer': 0, 'products': 1, 'the': 0, 'include': 1, 'Internet-related': 1, 'an': 1, 'specializes': 1, 'Inc.': 0, 'online': 1, 'January': 0, 'hardware': 1, 'multinational': 1, 'advertising': 1, 'engine': 1, 'company': 1, 'Google': 1, 'world': 0, 'Apple': 0, ',': 5, '2021': 0, 'since': 0}\n"
          ]
        }
      ]
    },
    {
      "cell_type": "code",
      "metadata": {
        "id": "f906716b"
      },
      "source": [
        ""
      ],
      "id": "f906716b",
      "execution_count": 6,
      "outputs": []
    },
    {
      "cell_type": "code",
      "metadata": {
        "colab": {
          "base_uri": "https://localhost:8080/"
        },
        "id": "a0b0be05",
        "outputId": "8a7923f6-ad49-4675-d936-23b105460ad7"
      },
      "source": [
        "print(tokenize_A) \n",
        "print(numOfWordsA)"
      ],
      "id": "a0b0be05",
      "execution_count": 7,
      "outputs": [
        {
          "output_type": "stream",
          "name": "stdout",
          "text": [
            "['Apple', 'Inc.', 'is', 'an', 'American', 'multinational', 'technology', 'company', 'that', 'specializes', 'in', 'consumer', 'electronics', ',', 'computer', 'software', ',', 'and', 'online', 'services', '.', 'Apple', 'is', 'the', 'world', \"'s\", 'largest', 'technology', 'company', 'by', 'revenue', 'and', ',', 'since', 'January', '2021', ',', 'the', 'world', \"'s\", 'most', 'valuable', 'company']\n",
            "{'by': 1, 'software': 1, 'that': 1, 'LLC': 0, 'in': 1, 'services': 1, 'technology': 2, 'valuable': 1, 'American': 1, 'is': 2, 'revenue': 1, 'which': 0, '.': 1, 'cloud': 0, 'technologies': 0, 'and': 2, 'computing': 0, 'largest': 1, 'electronics': 1, 'computer': 1, 'a': 0, 'search': 0, 'most': 1, \"'s\": 2, 'consumer': 1, 'products': 0, 'the': 2, 'include': 0, 'Internet-related': 0, 'an': 1, 'specializes': 1, 'Inc.': 1, 'online': 1, 'January': 1, 'hardware': 0, 'multinational': 1, 'advertising': 0, 'engine': 0, 'company': 3, 'Google': 0, 'world': 2, 'Apple': 2, ',': 4, '2021': 1, 'since': 1}\n"
          ]
        }
      ]
    },
    {
      "cell_type": "code",
      "metadata": {
        "id": "ca143bb7"
      },
      "source": [
        "def computeTF(wordDict, tokenize_item):\n",
        "    tfDict = {}\n",
        "    bagOfWordsCount = len(tokenize_item) \n",
        "    print(bagOfWordsCount)\n",
        "    for word, count in wordDict.items():\n",
        "        tfDict[word] = count / bagOfWordsCount\n",
        "    return tfDict"
      ],
      "id": "ca143bb7",
      "execution_count": 8,
      "outputs": []
    },
    {
      "cell_type": "code",
      "metadata": {
        "colab": {
          "base_uri": "https://localhost:8080/"
        },
        "id": "f61b7bef",
        "outputId": "284dbb4a-b0a7-4181-e0b0-31876a48084f"
      },
      "source": [
        "import math\n",
        "N = len([numOfWordsA, numOfWordsB])\n",
        "    \n",
        "idfDict = dict.fromkeys([numOfWordsA, numOfWordsB][0].keys(), 0)\n",
        "k = 0\n",
        "for document in [numOfWordsA, numOfWordsB]:\n",
        "  for word, val in document.items(): \n",
        "    if val > 0:\n",
        "      idfDict[word] += 1 \n",
        "print(idfDict)  \n",
        "\n",
        "\n",
        "\n",
        "for word, val in idfDict.items():\n",
        "  idfDict[word] =  math.log(N / float(val))"
      ],
      "id": "f61b7bef",
      "execution_count": 9,
      "outputs": [
        {
          "output_type": "stream",
          "name": "stdout",
          "text": [
            "{'by': 1, 'software': 2, 'that': 2, 'LLC': 1, 'in': 2, 'services': 2, 'technology': 2, 'valuable': 1, 'American': 2, 'is': 2, 'revenue': 1, 'which': 1, '.': 1, 'cloud': 1, 'technologies': 1, 'and': 2, 'computing': 1, 'largest': 1, 'electronics': 1, 'computer': 1, 'a': 1, 'search': 1, 'most': 1, \"'s\": 1, 'consumer': 1, 'products': 1, 'the': 1, 'include': 1, 'Internet-related': 1, 'an': 2, 'specializes': 2, 'Inc.': 1, 'online': 2, 'January': 1, 'hardware': 1, 'multinational': 2, 'advertising': 1, 'engine': 1, 'company': 2, 'Google': 1, 'world': 1, 'Apple': 1, ',': 2, '2021': 1, 'since': 1}\n"
          ]
        }
      ]
    },
    {
      "cell_type": "code",
      "metadata": {
        "id": "299f8b1d"
      },
      "source": [
        "def computeIDF(documentsDict):\n",
        "    \"\"\"\n",
        "    documentsDict:為一個list，包含所有文件的wordDict\n",
        "    \"\"\"\n",
        "    import math\n",
        "    N = len(documentsDict)\n",
        "    \n",
        "    idfDict = dict.fromkeys(documentsDict[0].keys(), 0)\n",
        "    print(idfDict)\n",
        "    for document in documentsDict: #doc A or doc b\n",
        "        for word, val in document.items(): \n",
        "            if val > 0:\n",
        "                idfDict[word] += 1\n",
        "    for word, val in idfDict.items():\n",
        "        idfDict[word] =  math.log(N / float(val))\n",
        "    return idfDict"
      ],
      "id": "299f8b1d",
      "execution_count": 10,
      "outputs": []
    },
    {
      "cell_type": "code",
      "metadata": {
        "id": "b7633b29"
      },
      "source": [
        ""
      ],
      "id": "b7633b29",
      "execution_count": null,
      "outputs": []
    },
    {
      "cell_type": "code",
      "metadata": {
        "id": "68938dc9"
      },
      "source": [
        "def computeTFIDF(tf_item, idfs):\n",
        "    tfidf = {}\n",
        "    for word, val in tf_item.items():\n",
        "        tfidf[word] = val * idfs[word]\n",
        "    return tfidf"
      ],
      "id": "68938dc9",
      "execution_count": 11,
      "outputs": []
    },
    {
      "cell_type": "code",
      "metadata": {
        "colab": {
          "base_uri": "https://localhost:8080/"
        },
        "id": "556620a0",
        "outputId": "a6fb43ea-3ff6-495c-cf7d-9d1be6a043f3"
      },
      "source": [
        "tfA = computeTF(numOfWordsA, tokenize_A)\n",
        "tfB = computeTF(numOfWordsB, tokenize_B)\n",
        "\n",
        "idfs = computeIDF([numOfWordsA, numOfWordsB])\n",
        "\n",
        "\n",
        "tfidfA = computeTFIDF(tfA, idfs)\n",
        "tfidfB = computeTFIDF(tfB, idfs)"
      ],
      "id": "556620a0",
      "execution_count": 12,
      "outputs": [
        {
          "output_type": "stream",
          "name": "stdout",
          "text": [
            "43\n",
            "33\n",
            "{'by': 0, 'software': 0, 'that': 0, 'LLC': 0, 'in': 0, 'services': 0, 'technology': 0, 'valuable': 0, 'American': 0, 'is': 0, 'revenue': 0, 'which': 0, '.': 0, 'cloud': 0, 'technologies': 0, 'and': 0, 'computing': 0, 'largest': 0, 'electronics': 0, 'computer': 0, 'a': 0, 'search': 0, 'most': 0, \"'s\": 0, 'consumer': 0, 'products': 0, 'the': 0, 'include': 0, 'Internet-related': 0, 'an': 0, 'specializes': 0, 'Inc.': 0, 'online': 0, 'January': 0, 'hardware': 0, 'multinational': 0, 'advertising': 0, 'engine': 0, 'company': 0, 'Google': 0, 'world': 0, 'Apple': 0, ',': 0, '2021': 0, 'since': 0}\n"
          ]
        }
      ]
    },
    {
      "cell_type": "code",
      "metadata": {
        "colab": {
          "base_uri": "https://localhost:8080/"
        },
        "id": "d58fbe33",
        "outputId": "30f7af33-2fbb-48b2-c0b6-7327a7bda328"
      },
      "source": [
        "tfidfA"
      ],
      "id": "d58fbe33",
      "execution_count": 13,
      "outputs": [
        {
          "output_type": "execute_result",
          "data": {
            "text/plain": [
              "{\"'s\": 0.0322394037469742,\n",
              " ',': 0.0,\n",
              " '.': 0.0161197018734871,\n",
              " '2021': 0.0161197018734871,\n",
              " 'American': 0.0,\n",
              " 'Apple': 0.0322394037469742,\n",
              " 'Google': 0.0,\n",
              " 'Inc.': 0.0161197018734871,\n",
              " 'Internet-related': 0.0,\n",
              " 'January': 0.0161197018734871,\n",
              " 'LLC': 0.0,\n",
              " 'a': 0.0,\n",
              " 'advertising': 0.0,\n",
              " 'an': 0.0,\n",
              " 'and': 0.0,\n",
              " 'by': 0.0161197018734871,\n",
              " 'cloud': 0.0,\n",
              " 'company': 0.0,\n",
              " 'computer': 0.0161197018734871,\n",
              " 'computing': 0.0,\n",
              " 'consumer': 0.0161197018734871,\n",
              " 'electronics': 0.0161197018734871,\n",
              " 'engine': 0.0,\n",
              " 'hardware': 0.0,\n",
              " 'in': 0.0,\n",
              " 'include': 0.0,\n",
              " 'is': 0.0,\n",
              " 'largest': 0.0161197018734871,\n",
              " 'most': 0.0161197018734871,\n",
              " 'multinational': 0.0,\n",
              " 'online': 0.0,\n",
              " 'products': 0.0,\n",
              " 'revenue': 0.0161197018734871,\n",
              " 'search': 0.0,\n",
              " 'services': 0.0,\n",
              " 'since': 0.0161197018734871,\n",
              " 'software': 0.0,\n",
              " 'specializes': 0.0,\n",
              " 'technologies': 0.0,\n",
              " 'technology': 0.0,\n",
              " 'that': 0.0,\n",
              " 'the': 0.0322394037469742,\n",
              " 'valuable': 0.0161197018734871,\n",
              " 'which': 0.0,\n",
              " 'world': 0.0322394037469742}"
            ]
          },
          "metadata": {},
          "execution_count": 13
        }
      ]
    },
    {
      "cell_type": "code",
      "metadata": {
        "colab": {
          "base_uri": "https://localhost:8080/"
        },
        "id": "64b7b553",
        "outputId": "ed8582cc-7636-4499-af30-f00fd9bb2e23"
      },
      "source": [
        "tfidfB"
      ],
      "id": "64b7b553",
      "execution_count": 14,
      "outputs": [
        {
          "output_type": "execute_result",
          "data": {
            "text/plain": [
              "{\"'s\": 0.0,\n",
              " ',': 0.0,\n",
              " '.': 0.0,\n",
              " '2021': 0.0,\n",
              " 'American': 0.0,\n",
              " 'Apple': 0.0,\n",
              " 'Google': 0.02100446001696804,\n",
              " 'Inc.': 0.0,\n",
              " 'Internet-related': 0.02100446001696804,\n",
              " 'January': 0.0,\n",
              " 'LLC': 0.02100446001696804,\n",
              " 'a': 0.02100446001696804,\n",
              " 'advertising': 0.02100446001696804,\n",
              " 'an': 0.0,\n",
              " 'and': 0.0,\n",
              " 'by': 0.0,\n",
              " 'cloud': 0.02100446001696804,\n",
              " 'company': 0.0,\n",
              " 'computer': 0.0,\n",
              " 'computing': 0.02100446001696804,\n",
              " 'consumer': 0.0,\n",
              " 'electronics': 0.0,\n",
              " 'engine': 0.02100446001696804,\n",
              " 'hardware': 0.02100446001696804,\n",
              " 'in': 0.0,\n",
              " 'include': 0.02100446001696804,\n",
              " 'is': 0.0,\n",
              " 'largest': 0.0,\n",
              " 'most': 0.0,\n",
              " 'multinational': 0.0,\n",
              " 'online': 0.0,\n",
              " 'products': 0.02100446001696804,\n",
              " 'revenue': 0.0,\n",
              " 'search': 0.02100446001696804,\n",
              " 'services': 0.0,\n",
              " 'since': 0.0,\n",
              " 'software': 0.0,\n",
              " 'specializes': 0.0,\n",
              " 'technologies': 0.02100446001696804,\n",
              " 'technology': 0.0,\n",
              " 'that': 0.0,\n",
              " 'the': 0.0,\n",
              " 'valuable': 0.0,\n",
              " 'which': 0.02100446001696804,\n",
              " 'world': 0.0}"
            ]
          },
          "metadata": {},
          "execution_count": 14
        }
      ]
    },
    {
      "cell_type": "code",
      "metadata": {
        "id": "942fd4f1"
      },
      "source": [
        ""
      ],
      "id": "942fd4f1",
      "execution_count": null,
      "outputs": []
    }
  ]
}